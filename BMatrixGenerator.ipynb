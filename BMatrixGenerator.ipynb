{
 "cells": [
  {
   "cell_type": "code",
   "execution_count": 1,
   "metadata": {},
   "outputs": [
    {
     "data": {
      "text/plain": [
       "f (generic function with 1 method)"
      ]
     },
     "execution_count": 1,
     "metadata": {},
     "output_type": "execute_result"
    }
   ],
   "source": [
    "# m = Model(solver = IpoptSolver(print_level=0))\n",
    "\n",
    "data = readtable(\"FILL IN CSV NAME\", header=true)\n",
    "# x_1 = data[:,1]\n",
    "# x_2 = data[:,2]\n",
    "# y_1 = data[:,3]\n",
    "# y_2 = data[:,4]\n",
    "\n",
    "@variables m begin\n",
    "    B # B matrix   \n",
    "    c1 # c1 = sum of column 1 = number of wins in round 1\n",
    "    c2\n",
    "    c3\n",
    "    c4\n",
    "    c5\n",
    "    c6\n",
    "end\n",
    "\n",
    "# Constraint for number of wins per round\n",
    "@constraint(m, c1 == 32)\n",
    "@constraint(m, c2 == 16)\n",
    "@constraint(m, c3 == 8)\n",
    "@constraint(m, c4 == 4)\n",
    "@constraint(m, c5 == 2)\n",
    "@constraint(m, c6 == 1)\n",
    "\n",
    "# Constraint for once one row gets a zero, zero for the rest of the row\n",
    "for t in 1:64\n",
    "    for r in 1:5\n",
    "        @constraint(m, B[t,r] >= B[t,r+1])\n",
    "    end\n",
    "end\n",
    "\n",
    "# Pairwise Constraints\n",
    "\n",
    "# Round 1\n",
    "for t in [1,3,5,7,9,11,13,15,17,19,21,23,25,27,29,31,33,35,37,39,41,\n",
    "    43,45,47,49,51,53,55,57,59,61,63]\n",
    "    @constraint(m, B[t,1] + B[t+1,1] == 1)\n",
    "end\n",
    "\n",
    "# Round 2\n",
    "for t in [1,5,9,13,17,21,25,29,33,37,41,45,49,53,57,61]\n",
    "    @constraint(m, B[t,2] + B[t+1,2] + B[t+2,2] + B[t+3,2] == 1)\n",
    "end\n",
    "\n",
    "# Round 3\n",
    "for t in [1,9,17,25,33,41,49,57]\n",
    "    @constraint(m, B[t,2] + B[t+1,2] + B[t+2,2] + B[t+3,2] + \n",
    "        B[t+4,2] + B[t+5,2] + B[t+6,2] + B[t+7,2]== 1)\n",
    "end\n",
    "\n",
    "# Round 4\n",
    "@constraint(m, sum(B[t,4] for t in 1:16) == 1)  \n",
    "@constraint(m, sum(B[t,4] for t in 17:32) == 1) \n",
    "@constraint(m, sum(B[t,4] for t in 33:48) == 1)  \n",
    "@constraint(m, sum(B[t,4] for t in 49:64) == 1)\n",
    "\n",
    "# Round 5\n",
    "@constraint(m, sum(B[t,5] for t in 1:32) == 1)  \n",
    "@constraint(m, sum(B[t,5] for t in 33:64) == 1) \n",
    "\n",
    "# Round 6\n",
    "@constraint(m, sum(B[t,6] for t in 1:64) == 1)  \n",
    "\n",
    "# @NLobjective(m, Min, w1^2 + w2^2)\n",
    "# solve(m)\n",
    "# println(\"The objective value is: \", getobjectivevalue(m))\n",
    "# println(\"The value of w1 is: \", getvalue(w1))\n",
    "# println(\"The value of w2 is: \", getvalue(w2))\n",
    "# println(\"The value of b is: \", getvalue(b))"
   ]
  },
  {
   "cell_type": "code",
   "execution_count": null,
   "metadata": {},
   "outputs": [],
   "source": []
  }
 ],
 "metadata": {
  "kernelspec": {
   "display_name": "Julia 0.6.2",
   "language": "julia",
   "name": "julia-0.6"
  },
  "language_info": {
   "file_extension": ".jl",
   "mimetype": "application/julia",
   "name": "julia",
   "version": "0.6.2"
  }
 },
 "nbformat": 4,
 "nbformat_minor": 2
}
